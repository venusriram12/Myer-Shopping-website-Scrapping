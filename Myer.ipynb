{
 "cells": [
  {
   "cell_type": "code",
   "execution_count": 1,
   "id": "c5cc8b10",
   "metadata": {},
   "outputs": [],
   "source": [
    "import requests\n",
    "from bs4 import BeautifulSoup\n",
    "import pandas as pd\n",
    "import requests"
   ]
  },
  {
   "cell_type": "code",
   "execution_count": 2,
   "id": "7655feb5",
   "metadata": {},
   "outputs": [],
   "source": [
    "import requests\n",
    "\n",
    "cookies = {\n",
    "    '_dy_csc_ses': 't',\n",
    "    '_dy_c_exps': '',\n",
    "    'showCBAPayments': 'true',\n",
    "    'cookieToggle_showCBAPayments': 'true',\n",
    "    'sss_vl': 'true',\n",
    "    '_gcl_au': '1.1.415996379.1666175722',\n",
    "    'BVBRANDID': 'ee452b0f-04db-46dd-90bd-87f29a23ea35',\n",
    "    '_dycnst': 'dg',\n",
    "    'IR_gbd': 'myer.com.au',\n",
    "    '_gid': 'GA1.3.1865356940.1666175724',\n",
    "    '_dyid': '1229482906096751337',\n",
    "    '_dyfs': '1666175723761',\n",
    "    '_dyjsession': '2c355a7cbb8c226d039b722eeeaa0636',\n",
    "    '_dycst': 'dk.w.c.ws.',\n",
    "    '_dy_geo': 'AU.OC.AU_VIC.AU_VIC_Melbourne',\n",
    "    '_dy_df_geo': 'Australia..Melbourne',\n",
    "    '_dy_c_att_exps': '',\n",
    "    '_hjSessionUser_767111': 'eyJpZCI6ImY4MWI1ZGFkLTljNzItNTVkNS1iNWU4LTMxMTFjMmM4Y2I0YSIsImNyZWF0ZWQiOjE2NjYxNzU3MjIwMzAsImV4aXN0aW5nIjp0cnVlfQ==',\n",
    "    '_hjSession_767111': 'eyJpZCI6IjcxYThmYmYwLWZkZTItNDZmMC04M2JmLTY3YWY0MTNmMzJkMSIsImNyZWF0ZWQiOjE2NjYyNjA4ODQxNTIsImluU2FtcGxlIjpmYWxzZX0=',\n",
    "    '_hjAbsoluteSessionInProgress': '0',\n",
    "    'IR_PI': 'a39d335d-4f80-11ed-be9d-9353289dab9a%7C1666347284703',\n",
    "    'BVBRANDSID': '055c74ab-a058-4a49-b5a0-69e69a61dbc7',\n",
    "    'dy_fs_page': 'www.myer.com.au%2Fc%2Fnew-in%3Fpagenumber%3D1',\n",
    "    '_dc_gtm_UA-64941668-1': '1',\n",
    "    '_dy_ses_load_seq': '52548%3A1666261835137',\n",
    "    'KP_UIDz-ssn': '0apHWYt97QBo6TS34yo3BdZWXho5h5WhMviQJQlEKGAl1ABPeTT7KTaXwHgOKm4yc6y00P7ZpE2mxtDbnelNqGxy9FZRDMA7w3QovGboaCF6nLJ7mDX9f9f13g3qoZg2MplXMqDyEOwsppbIMNKb0ypq0dJd',\n",
    "    'KP_UIDz': '0apHWYt97QBo6TS34yo3BdZWXho5h5WhMviQJQlEKGAl1ABPeTT7KTaXwHgOKm4yc6y00P7ZpE2mxtDbnelNqGxy9FZRDMA7w3QovGboaCF6nLJ7mDX9f9f13g3qoZg2MplXMqDyEOwsppbIMNKb0ypq0dJd',\n",
    "    'IR_15706': '1666261843618%7C0%7C1666261843618%7C%7C',\n",
    "    '_dy_soct': '332002.535194.1666261838*352385.578210.1666260884*352385.578211.1666175721*481719.1129424.1666261838*521909.987837.1666261838*526536.1000957.1666261839*535847.1029510.1666261838*540990.1041605.1666175721*584227.1125684.1666261838*601504.1160174.1666261838*616483.1193073.1666261838*702159.1341543.1666261843*708481.1353402.1666260884',\n",
    "    '_dy_lu_ses': '2c355a7cbb8c226d039b722eeeaa0636%3A1666261844488',\n",
    "    '_dy_toffset': '-7',\n",
    "    'cto_bundle': 'Xxuos196OWNka0Y0eFVEQzkwVjBUNnJwRGFBN2QlMkZhViUyRnkxcmFBZm54dDFDaWFIRFVoMjVac2RuSmNUZG5kSTd2YTRHUjhrcHhHcEc5YWozQ1pXJTJCYkkyMEc2dVZDUlRDV0N2S2hwJTJGYXBWeGlhdno4UGE1d0ltMjBWcHprdXozUiUyQiUyRmUyZW41N0JWejlxa2hMdUQlMkZ5eG1SdVZDUSUzRCUzRA',\n",
    "    '_ga': 'GA1.3.1046441093.1666175723',\n",
    "    '_ga_QYB18V4LW2': 'GS1.1.1666260884.2.1.1666261866.0.0.0',\n",
    "    '_ga_YKCTBDN9JH': 'GS1.1.1666260884.2.1.1666261867.0.0.0',\n",
    "}\n",
    "\n",
    "headers = {\n",
    "    'authority': 'api-online.myer.com.au',\n",
    "    'accept': 'application/json, text/plain, */*',\n",
    "    'accept-language': 'en-GB,en-US;q=0.9,en;q=0.8',\n",
    "    # Requests sorts cookies= alphabetically\n",
    "    # 'cookie': '_dy_csc_ses=t; _dy_c_exps=; showCBAPayments=true; cookieToggle_showCBAPayments=true; sss_vl=true; _gcl_au=1.1.415996379.1666175722; BVBRANDID=ee452b0f-04db-46dd-90bd-87f29a23ea35; _dycnst=dg; IR_gbd=myer.com.au; _gid=GA1.3.1865356940.1666175724; _dyid=1229482906096751337; _dyfs=1666175723761; _dyjsession=2c355a7cbb8c226d039b722eeeaa0636; _dycst=dk.w.c.ws.; _dy_geo=AU.OC.AU_VIC.AU_VIC_Melbourne; _dy_df_geo=Australia..Melbourne; _dy_c_att_exps=; _hjSessionUser_767111=eyJpZCI6ImY4MWI1ZGFkLTljNzItNTVkNS1iNWU4LTMxMTFjMmM4Y2I0YSIsImNyZWF0ZWQiOjE2NjYxNzU3MjIwMzAsImV4aXN0aW5nIjp0cnVlfQ==; _hjSession_767111=eyJpZCI6IjcxYThmYmYwLWZkZTItNDZmMC04M2JmLTY3YWY0MTNmMzJkMSIsImNyZWF0ZWQiOjE2NjYyNjA4ODQxNTIsImluU2FtcGxlIjpmYWxzZX0=; _hjAbsoluteSessionInProgress=0; IR_PI=a39d335d-4f80-11ed-be9d-9353289dab9a%7C1666347284703; BVBRANDSID=055c74ab-a058-4a49-b5a0-69e69a61dbc7; dy_fs_page=www.myer.com.au%2Fc%2Fnew-in%3Fpagenumber%3D1; _dc_gtm_UA-64941668-1=1; _dy_ses_load_seq=52548%3A1666261835137; KP_UIDz-ssn=0apHWYt97QBo6TS34yo3BdZWXho5h5WhMviQJQlEKGAl1ABPeTT7KTaXwHgOKm4yc6y00P7ZpE2mxtDbnelNqGxy9FZRDMA7w3QovGboaCF6nLJ7mDX9f9f13g3qoZg2MplXMqDyEOwsppbIMNKb0ypq0dJd; KP_UIDz=0apHWYt97QBo6TS34yo3BdZWXho5h5WhMviQJQlEKGAl1ABPeTT7KTaXwHgOKm4yc6y00P7ZpE2mxtDbnelNqGxy9FZRDMA7w3QovGboaCF6nLJ7mDX9f9f13g3qoZg2MplXMqDyEOwsppbIMNKb0ypq0dJd; IR_15706=1666261843618%7C0%7C1666261843618%7C%7C; _dy_soct=332002.535194.1666261838*352385.578210.1666260884*352385.578211.1666175721*481719.1129424.1666261838*521909.987837.1666261838*526536.1000957.1666261839*535847.1029510.1666261838*540990.1041605.1666175721*584227.1125684.1666261838*601504.1160174.1666261838*616483.1193073.1666261838*702159.1341543.1666261843*708481.1353402.1666260884; _dy_lu_ses=2c355a7cbb8c226d039b722eeeaa0636%3A1666261844488; _dy_toffset=-7; cto_bundle=Xxuos196OWNka0Y0eFVEQzkwVjBUNnJwRGFBN2QlMkZhViUyRnkxcmFBZm54dDFDaWFIRFVoMjVac2RuSmNUZG5kSTd2YTRHUjhrcHhHcEc5YWozQ1pXJTJCYkkyMEc2dVZDUlRDV0N2S2hwJTJGYXBWeGlhdno4UGE1d0ltMjBWcHprdXozUiUyQiUyRmUyZW41N0JWejlxa2hMdUQlMkZ5eG1SdVZDUSUzRCUzRA; _ga=GA1.3.1046441093.1666175723; _ga_QYB18V4LW2=GS1.1.1666260884.2.1.1666261866.0.0.0; _ga_YKCTBDN9JH=GS1.1.1666260884.2.1.1666261867.0.0.0',\n",
    "    'origin': 'https://www.myer.com.au',\n",
    "    'referer': 'https://www.myer.com.au/',\n",
    "    'sec-ch-ua': '\"Chromium\";v=\"106\", \"Google Chrome\";v=\"106\", \"Not;A=Brand\";v=\"99\"',\n",
    "    'sec-ch-ua-mobile': '?0',\n",
    "    'sec-ch-ua-platform': '\"Windows\"',\n",
    "    'sec-fetch-dest': 'empty',\n",
    "    'sec-fetch-mode': 'cors',\n",
    "    'sec-fetch-site': 'same-site',\n",
    "    'user-agent': 'Mozilla/5.0 (Windows NT 10.0; Win64; x64) AppleWebKit/537.36 (KHTML, like Gecko) Chrome/106.0.0.0 Safari/537.36',\n",
    "}\n",
    "\n",
    "params = {\n",
    "    'pageNumber': '1',\n",
    "    'pageSize': '48',\n",
    "    'facets': '',\n",
    "    'categoryUrlId': '/women/all-women',\n",
    "    'variants': '',\n",
    "}\n",
    "\n",
    "response = requests.get('https://api-online.myer.com.au/v3/product/cat/byseo/all-women', params=params, cookies=cookies, headers=headers)"
   ]
  },
  {
   "cell_type": "code",
   "execution_count": 3,
   "id": "cea97e00",
   "metadata": {},
   "outputs": [],
   "source": [
    "responce=response.json()"
   ]
  },
  {
   "cell_type": "code",
   "execution_count": 4,
   "id": "9b0e4129",
   "metadata": {},
   "outputs": [
    {
     "data": {
      "text/plain": [
       "dict_keys(['category', 'productTotalCount', 'productsPerPage', 'sort', 'offset', 'facetList', 'productList', 'responseId'])"
      ]
     },
     "execution_count": 4,
     "metadata": {},
     "output_type": "execute_result"
    }
   ],
   "source": [
    "responce.keys()"
   ]
  },
  {
   "cell_type": "code",
   "execution_count": 5,
   "id": "126ceb6e",
   "metadata": {},
   "outputs": [],
   "source": [
    "items=responce['productList']"
   ]
  },
  {
   "cell_type": "code",
   "execution_count": 6,
   "id": "299d6e9f",
   "metadata": {},
   "outputs": [],
   "source": [
    "brand=items[0]['brand']"
   ]
  },
  {
   "cell_type": "code",
   "execution_count": 7,
   "id": "699769a9",
   "metadata": {},
   "outputs": [
    {
     "data": {
      "text/plain": [
       "'Y.A.S'"
      ]
     },
     "execution_count": 7,
     "metadata": {},
     "output_type": "execute_result"
    }
   ],
   "source": [
    "brand"
   ]
  },
  {
   "cell_type": "code",
   "execution_count": 8,
   "id": "5f595a7f",
   "metadata": {},
   "outputs": [],
   "source": [
    "id=items[0]['id']"
   ]
  },
  {
   "cell_type": "code",
   "execution_count": 9,
   "id": "48cf8fa2",
   "metadata": {},
   "outputs": [
    {
     "data": {
      "text/plain": [
       "'925126930'"
      ]
     },
     "execution_count": 9,
     "metadata": {},
     "output_type": "execute_result"
    }
   ],
   "source": [
    "id"
   ]
  },
  {
   "cell_type": "code",
   "execution_count": 10,
   "id": "b57a2296",
   "metadata": {},
   "outputs": [],
   "source": [
    "discount_price=items[0]['priceFrom']"
   ]
  },
  {
   "cell_type": "code",
   "execution_count": 11,
   "id": "030bc2d7",
   "metadata": {},
   "outputs": [],
   "source": [
    "original_price=items[0]['listPriceTo']"
   ]
  },
  {
   "cell_type": "code",
   "execution_count": 12,
   "id": "a91dd722",
   "metadata": {},
   "outputs": [],
   "source": [
    "save_amount=items[0]['savedAmountTo']"
   ]
  },
  {
   "cell_type": "code",
   "execution_count": 13,
   "id": "160fef25",
   "metadata": {},
   "outputs": [],
   "source": [
    "color=items[0]['variantData'][0]['colour']"
   ]
  },
  {
   "cell_type": "code",
   "execution_count": 14,
   "id": "248b9bab",
   "metadata": {},
   "outputs": [],
   "source": [
    "Product_name=items[0]['name']"
   ]
  },
  {
   "cell_type": "code",
   "execution_count": 15,
   "id": "1dea4fae",
   "metadata": {},
   "outputs": [],
   "source": [
    "def fun(items):\n",
    "    product_name=[]\n",
    "    brand=[]\n",
    "    product_id=[]\n",
    "    discount_price=[]\n",
    "    original_price=[]\n",
    "    save_amount=[]\n",
    "    color=[]\n",
    "    \n",
    "    \n",
    "    \n",
    "    for a in items:\n",
    "        try:\n",
    "            product_name.append(a['name'])\n",
    "        except:\n",
    "            product_name.append('null')\n",
    "        try:\n",
    "            brand.append(a['brand'])\n",
    "        except:\n",
    "            brand.append('null')\n",
    "        try:\n",
    "            product_id.append(a['id'])\n",
    "        except:\n",
    "            product_id.append('null')\n",
    "        try:\n",
    "            discount_price.append(a['priceFrom'])\n",
    "        except:\n",
    "            discount_price.append('null')\n",
    "        try:\n",
    "            original_price.append(a['listPriceTo'])\n",
    "        except:\n",
    "            original_price.append('null')\n",
    "        try:\n",
    "            save_amount.append(a['savedAmountTo'])\n",
    "        except:\n",
    "            save_amount.append('null')\n",
    "        try:\n",
    "            color.append(a['variantData'][0]['colour'])\n",
    "        except:\n",
    "            color.append('null')\n",
    "            \n",
    "    \n",
    "    return product_name,brand,product_id,discount_price,original_price,save_amount,color\n",
    "    \n",
    "        \n",
    "    "
   ]
  },
  {
   "cell_type": "code",
   "execution_count": 16,
   "id": "2a5fe90f",
   "metadata": {},
   "outputs": [],
   "source": [
    "product_name,brand,product_id,discount_price,original_price,save_amount,color=fun(items)"
   ]
  },
  {
   "cell_type": "code",
   "execution_count": 17,
   "id": "350f637c",
   "metadata": {},
   "outputs": [
    {
     "data": {
      "text/plain": [
       "48"
      ]
     },
     "execution_count": 17,
     "metadata": {},
     "output_type": "execute_result"
    }
   ],
   "source": [
    "len(brand)"
   ]
  },
  {
   "cell_type": "code",
   "execution_count": 18,
   "id": "85862f03",
   "metadata": {},
   "outputs": [],
   "source": [
    "product_name=[]\n",
    "brand=[]\n",
    "product_id=[]\n",
    "discount_price=[]\n",
    "original_price=[]\n",
    "save_amount=[]\n",
    "color=[]\n",
    "for i in range(0,101):\n",
    "    cookies = {\n",
    "        '_dy_csc_ses': 't',\n",
    "        '_dy_c_exps': '',\n",
    "        'showCBAPayments': 'true',\n",
    "        'cookieToggle_showCBAPayments': 'true',\n",
    "        'sss_vl': 'true',\n",
    "        '_gcl_au': '1.1.415996379.1666175722',\n",
    "        'BVBRANDID': 'ee452b0f-04db-46dd-90bd-87f29a23ea35',\n",
    "        '_dycnst': 'dg',\n",
    "        'IR_gbd': 'myer.com.au',\n",
    "        '_gid': 'GA1.3.1865356940.1666175724',\n",
    "        '_dyid': '1229482906096751337',\n",
    "        '_dyfs': '1666175723761',\n",
    "        '_dyjsession': '2c355a7cbb8c226d039b722eeeaa0636',\n",
    "        '_dycst': 'dk.w.c.ws.',\n",
    "        '_dy_geo': 'AU.OC.AU_VIC.AU_VIC_Melbourne',\n",
    "        '_dy_df_geo': 'Australia..Melbourne',\n",
    "        '_dy_c_att_exps': '',\n",
    "        '_hjSessionUser_767111': 'eyJpZCI6ImY4MWI1ZGFkLTljNzItNTVkNS1iNWU4LTMxMTFjMmM4Y2I0YSIsImNyZWF0ZWQiOjE2NjYxNzU3MjIwMzAsImV4aXN0aW5nIjp0cnVlfQ==',\n",
    "        '_hjSession_767111': 'eyJpZCI6IjcxYThmYmYwLWZkZTItNDZmMC04M2JmLTY3YWY0MTNmMzJkMSIsImNyZWF0ZWQiOjE2NjYyNjA4ODQxNTIsImluU2FtcGxlIjpmYWxzZX0=',\n",
    "        '_hjAbsoluteSessionInProgress': '0',\n",
    "        'IR_PI': 'a39d335d-4f80-11ed-be9d-9353289dab9a%7C1666347284703',\n",
    "        'BVBRANDSID': '055c74ab-a058-4a49-b5a0-69e69a61dbc7',\n",
    "        'dy_fs_page': 'www.myer.com.au%2Fc%2Fnew-in%3Fpagenumber%3D1',\n",
    "        '_dc_gtm_UA-64941668-1': '1',\n",
    "        '_dy_ses_load_seq': '52548%3A1666261835137',\n",
    "        'KP_UIDz-ssn': '0apHWYt97QBo6TS34yo3BdZWXho5h5WhMviQJQlEKGAl1ABPeTT7KTaXwHgOKm4yc6y00P7ZpE2mxtDbnelNqGxy9FZRDMA7w3QovGboaCF6nLJ7mDX9f9f13g3qoZg2MplXMqDyEOwsppbIMNKb0ypq0dJd',\n",
    "        'KP_UIDz': '0apHWYt97QBo6TS34yo3BdZWXho5h5WhMviQJQlEKGAl1ABPeTT7KTaXwHgOKm4yc6y00P7ZpE2mxtDbnelNqGxy9FZRDMA7w3QovGboaCF6nLJ7mDX9f9f13g3qoZg2MplXMqDyEOwsppbIMNKb0ypq0dJd',\n",
    "        'IR_15706': '1666261843618%7C0%7C1666261843618%7C%7C',\n",
    "        '_dy_soct': '332002.535194.1666261838*352385.578210.1666260884*352385.578211.1666175721*481719.1129424.1666261838*521909.987837.1666261838*526536.1000957.1666261839*535847.1029510.1666261838*540990.1041605.1666175721*584227.1125684.1666261838*601504.1160174.1666261838*616483.1193073.1666261838*702159.1341543.1666261843*708481.1353402.1666260884',\n",
    "        '_dy_lu_ses': '2c355a7cbb8c226d039b722eeeaa0636%3A1666261844488',\n",
    "        '_dy_toffset': '-7',\n",
    "        'cto_bundle': 'Xxuos196OWNka0Y0eFVEQzkwVjBUNnJwRGFBN2QlMkZhViUyRnkxcmFBZm54dDFDaWFIRFVoMjVac2RuSmNUZG5kSTd2YTRHUjhrcHhHcEc5YWozQ1pXJTJCYkkyMEc2dVZDUlRDV0N2S2hwJTJGYXBWeGlhdno4UGE1d0ltMjBWcHprdXozUiUyQiUyRmUyZW41N0JWejlxa2hMdUQlMkZ5eG1SdVZDUSUzRCUzRA',\n",
    "        '_ga': 'GA1.3.1046441093.1666175723',\n",
    "        '_ga_QYB18V4LW2': 'GS1.1.1666260884.2.1.1666261866.0.0.0',\n",
    "        '_ga_YKCTBDN9JH': 'GS1.1.1666260884.2.1.1666261867.0.0.0',\n",
    "        }\n",
    "\n",
    "    headers = {\n",
    "        'authority': 'api-online.myer.com.au',\n",
    "        'accept': 'application/json, text/plain, */*',\n",
    "        'accept-language': 'en-GB,en-US;q=0.9,en;q=0.8',\n",
    "    # Requests sorts cookies= alphabetically\n",
    "    # 'cookie': '_dy_csc_ses=t; _dy_c_exps=; showCBAPayments=true; cookieToggle_showCBAPayments=true; sss_vl=true; _gcl_au=1.1.415996379.1666175722; BVBRANDID=ee452b0f-04db-46dd-90bd-87f29a23ea35; _dycnst=dg; IR_gbd=myer.com.au; _gid=GA1.3.1865356940.1666175724; _dyid=1229482906096751337; _dyfs=1666175723761; _dyjsession=2c355a7cbb8c226d039b722eeeaa0636; _dycst=dk.w.c.ws.; _dy_geo=AU.OC.AU_VIC.AU_VIC_Melbourne; _dy_df_geo=Australia..Melbourne; _dy_c_att_exps=; _hjSessionUser_767111=eyJpZCI6ImY4MWI1ZGFkLTljNzItNTVkNS1iNWU4LTMxMTFjMmM4Y2I0YSIsImNyZWF0ZWQiOjE2NjYxNzU3MjIwMzAsImV4aXN0aW5nIjp0cnVlfQ==; _hjSession_767111=eyJpZCI6IjcxYThmYmYwLWZkZTItNDZmMC04M2JmLTY3YWY0MTNmMzJkMSIsImNyZWF0ZWQiOjE2NjYyNjA4ODQxNTIsImluU2FtcGxlIjpmYWxzZX0=; _hjAbsoluteSessionInProgress=0; IR_PI=a39d335d-4f80-11ed-be9d-9353289dab9a%7C1666347284703; BVBRANDSID=055c74ab-a058-4a49-b5a0-69e69a61dbc7; dy_fs_page=www.myer.com.au%2Fc%2Fnew-in%3Fpagenumber%3D1; _dc_gtm_UA-64941668-1=1; _dy_ses_load_seq=52548%3A1666261835137; KP_UIDz-ssn=0apHWYt97QBo6TS34yo3BdZWXho5h5WhMviQJQlEKGAl1ABPeTT7KTaXwHgOKm4yc6y00P7ZpE2mxtDbnelNqGxy9FZRDMA7w3QovGboaCF6nLJ7mDX9f9f13g3qoZg2MplXMqDyEOwsppbIMNKb0ypq0dJd; KP_UIDz=0apHWYt97QBo6TS34yo3BdZWXho5h5WhMviQJQlEKGAl1ABPeTT7KTaXwHgOKm4yc6y00P7ZpE2mxtDbnelNqGxy9FZRDMA7w3QovGboaCF6nLJ7mDX9f9f13g3qoZg2MplXMqDyEOwsppbIMNKb0ypq0dJd; IR_15706=1666261843618%7C0%7C1666261843618%7C%7C; _dy_soct=332002.535194.1666261838*352385.578210.1666260884*352385.578211.1666175721*481719.1129424.1666261838*521909.987837.1666261838*526536.1000957.1666261839*535847.1029510.1666261838*540990.1041605.1666175721*584227.1125684.1666261838*601504.1160174.1666261838*616483.1193073.1666261838*702159.1341543.1666261843*708481.1353402.1666260884; _dy_lu_ses=2c355a7cbb8c226d039b722eeeaa0636%3A1666261844488; _dy_toffset=-7; cto_bundle=Xxuos196OWNka0Y0eFVEQzkwVjBUNnJwRGFBN2QlMkZhViUyRnkxcmFBZm54dDFDaWFIRFVoMjVac2RuSmNUZG5kSTd2YTRHUjhrcHhHcEc5YWozQ1pXJTJCYkkyMEc2dVZDUlRDV0N2S2hwJTJGYXBWeGlhdno4UGE1d0ltMjBWcHprdXozUiUyQiUyRmUyZW41N0JWejlxa2hMdUQlMkZ5eG1SdVZDUSUzRCUzRA; _ga=GA1.3.1046441093.1666175723; _ga_QYB18V4LW2=GS1.1.1666260884.2.1.1666261866.0.0.0; _ga_YKCTBDN9JH=GS1.1.1666260884.2.1.1666261867.0.0.0',\n",
    "        'origin': 'https://www.myer.com.au',\n",
    "        'referer': 'https://www.myer.com.au/',\n",
    "        'sec-ch-ua': '\"Chromium\";v=\"106\", \"Google Chrome\";v=\"106\", \"Not;A=Brand\";v=\"99\"',\n",
    "        'sec-ch-ua-mobile': '?0',\n",
    "        'sec-ch-ua-platform': '\"Windows\"',\n",
    "        'sec-fetch-dest': 'empty',\n",
    "        'sec-fetch-mode': 'cors',\n",
    "        'sec-fetch-site': 'same-site',\n",
    "        'user-agent': 'Mozilla/5.0 (Windows NT 10.0; Win64; x64) AppleWebKit/537.36 (KHTML, like Gecko) Chrome/106.0.0.0 Safari/537.36',\n",
    "        }\n",
    "\n",
    "    params = {\n",
    "        'pageNumber': str(i),\n",
    "        'pageSize': '48',\n",
    "        'facets': '',\n",
    "        'categoryUrlId': '/women/all-women',\n",
    "        'variants': '',\n",
    "        }\n",
    "\n",
    "    response = requests.get('https://api-online.myer.com.au/v3/product/cat/byseo/all-women', params=params, cookies=cookies, headers=headers)\n",
    "    responce=response.json()\n",
    "    items=responce['productList']\n",
    "    for a in items:\n",
    "        try:\n",
    "            product_name.append(a['name'])\n",
    "        except:\n",
    "            product_name.append('null')\n",
    "        try:\n",
    "            brand.append(a['brand'])\n",
    "        except:\n",
    "            brand.append('null')\n",
    "        try:\n",
    "            product_id.append(a['id'])\n",
    "        except:\n",
    "            product_id.append('null')\n",
    "        try:\n",
    "            discount_price.append(a['priceFrom'])\n",
    "        except:\n",
    "            discount_price.append('null')\n",
    "        try:\n",
    "            original_price.append(a['listPriceTo'])\n",
    "        except:\n",
    "            original_price.append('null')\n",
    "        try:\n",
    "            save_amount.append(a['savedAmountTo'])\n",
    "        except:\n",
    "            save_amount.append('null')\n",
    "        try:\n",
    "            color.append(a['variantData'][0]['colour'])\n",
    "        except:\n",
    "            color.append('null')"
   ]
  },
  {
   "cell_type": "code",
   "execution_count": 19,
   "id": "6fda6e07",
   "metadata": {},
   "outputs": [
    {
     "data": {
      "text/plain": [
       "4848"
      ]
     },
     "execution_count": 19,
     "metadata": {},
     "output_type": "execute_result"
    }
   ],
   "source": [
    "len(brand)"
   ]
  },
  {
   "cell_type": "code",
   "execution_count": 20,
   "id": "91d36242",
   "metadata": {},
   "outputs": [
    {
     "data": {
      "text/plain": [
       "4848"
      ]
     },
     "execution_count": 20,
     "metadata": {},
     "output_type": "execute_result"
    }
   ],
   "source": [
    "len(save_amount)"
   ]
  },
  {
   "cell_type": "markdown",
   "id": "95907793",
   "metadata": {},
   "source": [
    "## Create DataFrame"
   ]
  },
  {
   "cell_type": "code",
   "execution_count": 21,
   "id": "168a679a",
   "metadata": {},
   "outputs": [],
   "source": [
    "data=pd.DataFrame({'product_name':product_name, 'brand':brand, 'product_id':product_id, 'discount_price':discount_price,\n",
    "                          ' original_price': original_price, ' save_amount': save_amount, 'color':color})"
   ]
  },
  {
   "cell_type": "code",
   "execution_count": 22,
   "id": "bfa7cf96",
   "metadata": {
    "scrolled": true
   },
   "outputs": [
    {
     "data": {
      "text/html": [
       "<div>\n",
       "<style scoped>\n",
       "    .dataframe tbody tr th:only-of-type {\n",
       "        vertical-align: middle;\n",
       "    }\n",
       "\n",
       "    .dataframe tbody tr th {\n",
       "        vertical-align: top;\n",
       "    }\n",
       "\n",
       "    .dataframe thead th {\n",
       "        text-align: right;\n",
       "    }\n",
       "</style>\n",
       "<table border=\"1\" class=\"dataframe\">\n",
       "  <thead>\n",
       "    <tr style=\"text-align: right;\">\n",
       "      <th></th>\n",
       "      <th>product_name</th>\n",
       "      <th>brand</th>\n",
       "      <th>product_id</th>\n",
       "      <th>discount_price</th>\n",
       "      <th>original_price</th>\n",
       "      <th>save_amount</th>\n",
       "      <th>color</th>\n",
       "    </tr>\n",
       "  </thead>\n",
       "  <tbody>\n",
       "    <tr>\n",
       "      <th>0</th>\n",
       "      <td>Dala Dress in Sky Captain</td>\n",
       "      <td>Y.A.S</td>\n",
       "      <td>925126930</td>\n",
       "      <td>127.46</td>\n",
       "      <td>169.95</td>\n",
       "      <td>42.49</td>\n",
       "      <td>Navy</td>\n",
       "    </tr>\n",
       "    <tr>\n",
       "      <th>1</th>\n",
       "      <td>Iris Leather Cross Body</td>\n",
       "      <td>French Connection</td>\n",
       "      <td>911243440</td>\n",
       "      <td>99.95</td>\n",
       "      <td>179.95</td>\n",
       "      <td>80</td>\n",
       "      <td>Mocha</td>\n",
       "    </tr>\n",
       "    <tr>\n",
       "      <th>2</th>\n",
       "      <td>Rhinestone Pant in Peridot Green</td>\n",
       "      <td>Veronika Maine</td>\n",
       "      <td>947051290</td>\n",
       "      <td>149.50</td>\n",
       "      <td>299.00</td>\n",
       "      <td>149.5</td>\n",
       "      <td>Pistachio</td>\n",
       "    </tr>\n",
       "    <tr>\n",
       "      <th>3</th>\n",
       "      <td>Argyle Knit in Silver</td>\n",
       "      <td>Marcs</td>\n",
       "      <td>915022990</td>\n",
       "      <td>119.00</td>\n",
       "      <td>169.95</td>\n",
       "      <td>50.95</td>\n",
       "      <td>Silver</td>\n",
       "    </tr>\n",
       "    <tr>\n",
       "      <th>4</th>\n",
       "      <td>Holi Midi Cotton Embroidery Skirt in Star White</td>\n",
       "      <td>Y.A.S</td>\n",
       "      <td>923022910</td>\n",
       "      <td>119.95</td>\n",
       "      <td>119.95</td>\n",
       "      <td>null</td>\n",
       "      <td>White</td>\n",
       "    </tr>\n",
       "    <tr>\n",
       "      <th>...</th>\n",
       "      <td>...</td>\n",
       "      <td>...</td>\n",
       "      <td>...</td>\n",
       "      <td>...</td>\n",
       "      <td>...</td>\n",
       "      <td>...</td>\n",
       "      <td>...</td>\n",
       "    </tr>\n",
       "    <tr>\n",
       "      <th>4843</th>\n",
       "      <td>Link White Fabric Sneakers</td>\n",
       "      <td>Sandler</td>\n",
       "      <td>830283400</td>\n",
       "      <td>52.46</td>\n",
       "      <td>69.95</td>\n",
       "      <td>17.49</td>\n",
       "      <td>White</td>\n",
       "    </tr>\n",
       "    <tr>\n",
       "      <th>4844</th>\n",
       "      <td>Smooth With Lace G-String In Beige</td>\n",
       "      <td>Soho</td>\n",
       "      <td>883217170_883338220</td>\n",
       "      <td>13.95</td>\n",
       "      <td>13.95</td>\n",
       "      <td>null</td>\n",
       "      <td>Beige</td>\n",
       "    </tr>\n",
       "    <tr>\n",
       "      <th>4845</th>\n",
       "      <td>Rally Black Glove Sandals</td>\n",
       "      <td>Jane Debster</td>\n",
       "      <td>903866140</td>\n",
       "      <td>104.96</td>\n",
       "      <td>139.95</td>\n",
       "      <td>34.99</td>\n",
       "      <td>Black</td>\n",
       "    </tr>\n",
       "    <tr>\n",
       "      <th>4846</th>\n",
       "      <td>Outplay Running Short Black</td>\n",
       "      <td>L'URV</td>\n",
       "      <td>902373130</td>\n",
       "      <td>39.50</td>\n",
       "      <td>79.00</td>\n",
       "      <td>39.5</td>\n",
       "      <td>Black</td>\n",
       "    </tr>\n",
       "    <tr>\n",
       "      <th>4847</th>\n",
       "      <td>Cotton Repeat Logo Waistband Thongs Briefs 3 P...</td>\n",
       "      <td>Tommy Hilfiger</td>\n",
       "      <td>898365790</td>\n",
       "      <td>59.95</td>\n",
       "      <td>59.95</td>\n",
       "      <td>null</td>\n",
       "      <td>Assorted</td>\n",
       "    </tr>\n",
       "  </tbody>\n",
       "</table>\n",
       "<p>4848 rows × 7 columns</p>\n",
       "</div>"
      ],
      "text/plain": [
       "                                           product_name              brand  \\\n",
       "0                             Dala Dress in Sky Captain              Y.A.S   \n",
       "1                               Iris Leather Cross Body  French Connection   \n",
       "2                      Rhinestone Pant in Peridot Green     Veronika Maine   \n",
       "3                                 Argyle Knit in Silver              Marcs   \n",
       "4       Holi Midi Cotton Embroidery Skirt in Star White              Y.A.S   \n",
       "...                                                 ...                ...   \n",
       "4843                         Link White Fabric Sneakers            Sandler   \n",
       "4844                 Smooth With Lace G-String In Beige               Soho   \n",
       "4845                          Rally Black Glove Sandals       Jane Debster   \n",
       "4846                        Outplay Running Short Black              L'URV   \n",
       "4847  Cotton Repeat Logo Waistband Thongs Briefs 3 P...     Tommy Hilfiger   \n",
       "\n",
       "               product_id  discount_price   original_price  save_amount  \\\n",
       "0               925126930          127.46           169.95        42.49   \n",
       "1               911243440           99.95           179.95           80   \n",
       "2               947051290          149.50           299.00        149.5   \n",
       "3               915022990          119.00           169.95        50.95   \n",
       "4               923022910          119.95           119.95         null   \n",
       "...                   ...             ...              ...          ...   \n",
       "4843            830283400           52.46            69.95        17.49   \n",
       "4844  883217170_883338220           13.95            13.95         null   \n",
       "4845            903866140          104.96           139.95        34.99   \n",
       "4846            902373130           39.50            79.00         39.5   \n",
       "4847            898365790           59.95            59.95         null   \n",
       "\n",
       "          color  \n",
       "0          Navy  \n",
       "1         Mocha  \n",
       "2     Pistachio  \n",
       "3        Silver  \n",
       "4         White  \n",
       "...         ...  \n",
       "4843      White  \n",
       "4844      Beige  \n",
       "4845      Black  \n",
       "4846      Black  \n",
       "4847   Assorted  \n",
       "\n",
       "[4848 rows x 7 columns]"
      ]
     },
     "execution_count": 22,
     "metadata": {},
     "output_type": "execute_result"
    }
   ],
   "source": [
    "data"
   ]
  },
  {
   "cell_type": "code",
   "execution_count": null,
   "id": "f8fa5d52",
   "metadata": {},
   "outputs": [],
   "source": []
  },
  {
   "cell_type": "code",
   "execution_count": 50,
   "id": "45efa703",
   "metadata": {},
   "outputs": [],
   "source": [
    "import sqlalchemy\n",
    "data.to_excel('myer_data.xlsx', index=False)"
   ]
  },
  {
   "cell_type": "markdown",
   "id": "bf5da8e9",
   "metadata": {},
   "source": [
    "### Connect to PostgreSql database"
   ]
  },
  {
   "cell_type": "code",
   "execution_count": 56,
   "id": "930c533a",
   "metadata": {},
   "outputs": [],
   "source": [
    "engine = sqlalchemy.create_engine('postgres://postgres:Prince123@@localhost:5432')\n",
    "data.to_sql('myer_data', engine)"
   ]
  },
  {
   "cell_type": "code",
   "execution_count": null,
   "id": "67b640ca",
   "metadata": {},
   "outputs": [],
   "source": []
  }
 ],
 "metadata": {
  "kernelspec": {
   "display_name": "Python 3 (ipykernel)",
   "language": "python",
   "name": "python3"
  },
  "language_info": {
   "codemirror_mode": {
    "name": "ipython",
    "version": 3
   },
   "file_extension": ".py",
   "mimetype": "text/x-python",
   "name": "python",
   "nbconvert_exporter": "python",
   "pygments_lexer": "ipython3",
   "version": "3.8.2"
  }
 },
 "nbformat": 4,
 "nbformat_minor": 5
}
